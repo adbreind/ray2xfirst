{
 "cells": [
  {
   "attachments": {},
   "cell_type": "markdown",
   "metadata": {
    "colab_type": "text",
    "id": "dXnXTrORzdnk"
   },
   "source": [
    "# Ray 2.x First Steps\n",
    "\n",
    "## What We'll Cover\n",
    "\n",
    "* Intro to Ray\n",
    "* Ray and the Data Science Workflow\n",
    "* Ray Architecture and Setup\n",
    "* Training and Tuning Models with RayAIR\n",
    "* Reinforcement Learning at Scale\n",
    "* Model Depoyment with RayServe\n",
    "* Ray Core\n",
    "* Wrapup\n",
    "\n",
    "## Materials/Operations\n",
    "\n",
    "* All content is in these notebooks\n",
    "    * Shoutout to: Ray documentation; Anyscale developer relations, evangelism, and training\n",
    "* Play along if you have a local environment\n",
    "* Feel free to experiment\n",
    "* Ask questions\n",
    "* Plan for break once per hour\n",
    "\n",
    "### Instructor: Adam Breindel\n",
    "\n",
    "#### Contact\n",
    "* https://www.linkedin.com/in/adbreind\n",
    "* adbreind@gmail.com\n",
    "* `@adbreind` (Twitter)\n",
    "* `@adbreind@mastodon.xyz` (Mastodon)\n",
    "\n",
    "<img src=\"https://materials.s3.amazonaws.com/i/lpMDU9j.jpg\" width=200 style=\"margin-right:2em;margin-top:1em\">\n",
    "\n",
    "* 25+ years building systems for startups and large enterprises including data, AI/ML, mobile, web, embedded, DB...\n",
    "* 15+ years teaching tech, math, stats, complexity\n",
    "\n",
    "#### Interesting projects...\n",
    "* My first full-time job in tech involved streaming neural net fraud scoring (debit cards)\n",
    "* Realtime & offline analytics for banking\n",
    "* Music synchronization and licensing for networked jukeboxes\n",
    "* Airline process automation\n",
    "\n",
    "#### Industries\n",
    "* Finance / Insurance, Travel, Media / Entertainment, Government, Energy, Tech"
   ]
  },
  {
   "cell_type": "code",
   "execution_count": null,
   "metadata": {},
   "outputs": [],
   "source": []
  }
 ],
 "metadata": {
  "accelerator": "GPU",
  "colab": {
   "collapsed_sections": [],
   "name": "01QI-Intro.ipynb",
   "provenance": [
    {
     "file_id": "1tKG1FZPbCHSqp4kJx52wgnG9f7RW0Cvf",
     "timestamp": 1553029369447
    }
   ],
   "version": "0.3.2"
  },
  "kernelspec": {
   "display_name": "Python 3 (ipykernel)",
   "language": "python",
   "name": "python3"
  },
  "language_info": {
   "codemirror_mode": {
    "name": "ipython",
    "version": 3
   },
   "file_extension": ".py",
   "mimetype": "text/x-python",
   "name": "python",
   "nbconvert_exporter": "python",
   "pygments_lexer": "ipython3",
   "version": "3.9.0"
  }
 },
 "nbformat": 4,
 "nbformat_minor": 4
}
