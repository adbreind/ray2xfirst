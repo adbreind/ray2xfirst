{
 "cells": [
  {
   "cell_type": "markdown",
   "id": "a14cab54",
   "metadata": {
    "tags": []
   },
   "source": [
    "# Ray Core:\n",
    "## Remote Functions as Tasks, Remote Stateful Class Instances as Actors\n",
    "\n",
    "Ray enables arbitrary functions to be executed asynchronously on separate Python workers. These asynchronous Ray functions are called “tasks.” You can specify task's resource requirements in terms of CPUs, GPUs, and custom resources. These resource requests are used by the cluster scheduler to distribute tasks across the cluster for parallelized execution.  \n",
    "\n",
    "<img src=\"images/python_to_ray_concept_map.png\" />"
   ]
  },
  {
   "cell_type": "code",
   "execution_count": 19,
   "id": "bee29917",
   "metadata": {},
   "outputs": [],
   "source": [
    "import os\n",
    "import time\n",
    "import logging\n",
    "\n",
    "import numpy as np\n",
    "from numpy import loadtxt\n",
    "import ray"
   ]
  },
  {
   "cell_type": "markdown",
   "id": "74b98b39",
   "metadata": {
    "tags": []
   },
   "source": [
    "## Tasks Parallel Pattern\n",
    "\n",
    "Ray converts decorated functions with `@ray.remote` into stateless tasks, scheduled anywhere on a Ray node's worker in the cluster. \n",
    "\n",
    "Where they will be executed (and by whom), you don't have to worry about its details. All that is taken care for you. Nor do \n",
    "you have to reason about it — all that burden is Ray's job. You simply take your existing Python functions and covert them into \n",
    "distributed stateless *Ray Tasks*: **as simple as that!**"
   ]
  },
  {
   "cell_type": "markdown",
   "id": "893ec22c",
   "metadata": {},
   "source": [
    "### Example 1: Serial vs Parallelism\n",
    "\n",
    "Let's look at simple tasks running serially and then in parallel. For illustration, we'll use a simple task, but this could be a compute-intensive task as part of your workload.\n"
   ]
  },
  {
   "cell_type": "markdown",
   "id": "93a44dfe",
   "metadata": {},
   "source": [
    "There are a few key differences between the original function and the decorated one:\n",
    "\n",
    "**Invocation**: The regular version is called with `regular_function()`, whereas the remote version is called with `remote_function.remote()`. Keep this pattern in mind for all Ray remote execution methods.\n",
    "\n",
    "**Mode of execution and return values**: `regular_function` executes synchronously and returns the result of the function as the value `1` (in our case), whereas `remote_function` immediately returns an `ObjectID` (a future) and then executes the task in the background on a remote worker process. The result of the future is obtained by calling `ray.get` on the `ObjectID`. This is a blocking function."
   ]
  },
  {
   "cell_type": "code",
   "execution_count": 2,
   "id": "e1982539",
   "metadata": {},
   "outputs": [],
   "source": [
    "# A regular Python function.\n",
    "def regular_function():\n",
    "    time.sleep(1)\n",
    "    return 1"
   ]
  },
  {
   "cell_type": "code",
   "execution_count": 3,
   "id": "94597c9a",
   "metadata": {},
   "outputs": [],
   "source": [
    "# A Ray remote function.\n",
    "@ray.remote\n",
    "def remote_function():\n",
    "    time.sleep(1)\n",
    "    return 1"
   ]
  },
  {
   "cell_type": "code",
   "execution_count": 4,
   "id": "db6cea5d-09fb-4fb8-a7bc-8839804c375d",
   "metadata": {},
   "outputs": [],
   "source": [
    "# Let's invoke the regular function\n",
    "assert regular_function() == 1"
   ]
  },
  {
   "cell_type": "code",
   "execution_count": 5,
   "id": "0895cda7",
   "metadata": {},
   "outputs": [
    {
     "name": "stderr",
     "output_type": "stream",
     "text": [
      "2022-12-27 09:58:42,798\tINFO worker.py:1529 -- Started a local Ray instance. View the dashboard at \u001b[1m\u001b[32m127.0.0.1:8268 \u001b[39m\u001b[22m\n"
     ]
    },
    {
     "data": {
      "text/plain": [
       "ObjectRef(c8ef45ccd0112571ffffffffffffffffffffffff0100000001000000)"
      ]
     },
     "execution_count": 5,
     "metadata": {},
     "output_type": "execute_result"
    }
   ],
   "source": [
    "# Let's invoke the remote function.\n",
    "obj_ref = remote_function.remote()\n",
    "obj_ref"
   ]
  },
  {
   "cell_type": "code",
   "execution_count": 6,
   "id": "111ac990",
   "metadata": {},
   "outputs": [],
   "source": [
    "assert ray.get(obj_ref) == 1"
   ]
  },
  {
   "cell_type": "markdown",
   "id": "33c8f5fe",
   "metadata": {},
   "source": [
    "#### Serial execution in Python with no parallelism\n",
    "Invocations of `regular_function` in a comprehension loop happens `serially`:"
   ]
  },
  {
   "cell_type": "code",
   "execution_count": 8,
   "id": "2d090c79",
   "metadata": {},
   "outputs": [
    {
     "name": "stdout",
     "output_type": "stream",
     "text": [
      "CPU times: user 17.5 ms, sys: 18.5 ms, total: 36 ms\n",
      "Wall time: 5.02 s\n"
     ]
    }
   ],
   "source": [
    "%%time\n",
    "\n",
    "# These are executed one at a time, back-to-back, in a list comprehension\n",
    "\n",
    "results = [regular_function() for _ in range(5)]\n",
    "assert sum(results) == 5"
   ]
  },
  {
   "cell_type": "markdown",
   "id": "d4e5601c",
   "metadata": {},
   "source": [
    "#### Parallel execution in Python with Ray\n",
    "\n",
    "Invocations of `remote_function` in a loop happen `asynchronously` and in parallel:"
   ]
  },
  {
   "cell_type": "code",
   "execution_count": 10,
   "id": "a06dc2bd",
   "metadata": {},
   "outputs": [
    {
     "name": "stdout",
     "output_type": "stream",
     "text": [
      "CPU times: user 6.17 ms, sys: 4.23 ms, total: 10.4 ms\n",
      "Wall time: 1.01 s\n"
     ]
    }
   ],
   "source": [
    "%%time\n",
    "\n",
    "# Executing these functions, in comprehension list, happens at the same time in the background,\n",
    "# and we get the results using ray.get.\n",
    "\n",
    "results = [remote_function.remote() for _ in range(5)]\n",
    "assert sum(ray.get(results)) == 5"
   ]
  },
  {
   "cell_type": "markdown",
   "id": "ddf7bb91",
   "metadata": {},
   "source": [
    "### Example 2: Adding two np arrays\n",
    "\n",
    "<img src=\"images/remote_task_api_add_array.png\" width=\"80%\"/>"
   ]
  },
  {
   "cell_type": "markdown",
   "id": "12e573d5",
   "metadata": {},
   "source": [
    "Define a function as a Ray task to read an array"
   ]
  },
  {
   "cell_type": "code",
   "execution_count": 11,
   "id": "07b86a34",
   "metadata": {},
   "outputs": [],
   "source": [
    "@ray.remote\n",
    "def read_array(fn: str) -> np.array:\n",
    "    arr = loadtxt(fn, comments=\"#\", delimiter=\",\", unpack=False)\n",
    "    return arr.astype(\"int\")"
   ]
  },
  {
   "cell_type": "markdown",
   "id": "d4a7cebe",
   "metadata": {},
   "source": [
    "Define a function as a Ray task to add two np arrays return the sum"
   ]
  },
  {
   "cell_type": "code",
   "execution_count": 12,
   "id": "baeb063d",
   "metadata": {},
   "outputs": [],
   "source": [
    "@ray.remote\n",
    "def add_array(arr1: np.array, arr2: np.array) -> np.array:\n",
    "    return np.add(arr1, arr1)"
   ]
  },
  {
   "cell_type": "markdown",
   "id": "553e7cd7",
   "metadata": {},
   "source": [
    "Define a function as a Ray task to sum the contents of an np array"
   ]
  },
  {
   "cell_type": "code",
   "execution_count": 13,
   "id": "c8b01bea",
   "metadata": {},
   "outputs": [],
   "source": [
    "@ray.remote\n",
    "def sum_array(arr1: np.array) -> int:\n",
    "    return np.sum(arr1)"
   ]
  },
  {
   "cell_type": "markdown",
   "id": "779d86e8",
   "metadata": {},
   "source": [
    "Now let's execute our tasks. For now we will run on a single node (this could be your laptop), with potential access to utilize all the available cores when necessary.\n",
    "\n",
    "Ray executes immediately and returns an object reference `ObjectRef` as a future. This enables Ray to parallelize tasks and execute them asynchronously."
   ]
  },
  {
   "cell_type": "markdown",
   "id": "e1853f1f",
   "metadata": {},
   "source": [
    "#### Read both arrays\n",
    "\n",
    "Use the `func_name.remote(args)` extention to invoke a remote Ray Task"
   ]
  },
  {
   "cell_type": "code",
   "execution_count": 14,
   "id": "30e63c86",
   "metadata": {},
   "outputs": [
    {
     "name": "stdout",
     "output_type": "stream",
     "text": [
      "array 1: ObjectRef(1e8ff6d236132784ffffffffffffffffffffffff0100000001000000)\n"
     ]
    }
   ],
   "source": [
    "obj_ref_arr1 = read_array.remote(\"data/file_1.txt\")\n",
    "print(f\"array 1: {obj_ref_arr1}\")"
   ]
  },
  {
   "cell_type": "code",
   "execution_count": 15,
   "id": "be601ef5",
   "metadata": {},
   "outputs": [
    {
     "name": "stdout",
     "output_type": "stream",
     "text": [
      "array 2: ObjectRef(85748392bcd969ccffffffffffffffffffffffff0100000001000000)\n"
     ]
    }
   ],
   "source": [
    "obj_ref_arr2 = read_array.remote(\"data/file_2.txt\")\n",
    "print(f\"array 2: {obj_ref_arr2}\")"
   ]
  },
  {
   "cell_type": "markdown",
   "id": "1c37ac17",
   "metadata": {},
   "source": [
    "#### Add both arrays\n",
    "\n",
    "Let's add our two arrays by calling the remote method. *Note*: We are sending Ray `ObjectRef` references as arguments. Those arguments will be resolved inline and fetched from owner's object store. That is, the cluster node that creates the `ObjectRef` owns the meta data associated and stores it in its object store. \n",
    "\n",
    "Ray scheduler is aware of where these object references reside or who owns them, so it will schedule this remote task on node on the worker process for data locality."
   ]
  },
  {
   "cell_type": "code",
   "execution_count": 16,
   "id": "b1ec1898",
   "metadata": {},
   "outputs": [
    {
     "data": {
      "text/plain": [
       "ObjectRef(d695f922effe6d99ffffffffffffffffffffffff0100000001000000)"
      ]
     },
     "execution_count": 16,
     "metadata": {},
     "output_type": "execute_result"
    }
   ],
   "source": [
    "result_obj_ref = add_array.remote(obj_ref_arr1, obj_ref_arr2)\n",
    "result_obj_ref"
   ]
  },
  {
   "cell_type": "markdown",
   "id": "c70b38ce",
   "metadata": {},
   "source": [
    "#### Fetch the result\n",
    "\n",
    "This will task if not finished will block during `.get(object_ref`)"
   ]
  },
  {
   "cell_type": "code",
   "execution_count": 17,
   "id": "92f5e031",
   "metadata": {},
   "outputs": [
    {
     "name": "stdout",
     "output_type": "stream",
     "text": [
      "Result: add arr1 + arr2: \n",
      " [[  0  96 144 150 108 178 168 136  18  76]\n",
      " [  6  80 146 116  20  70 192  12 130  66]\n",
      " [110 134  24 194 104 146  14 152  78 100]\n",
      " [118  68  40  80 184 110  22  78 186  76]\n",
      " [178 178  74 104  96 172  98   6  38 100]\n",
      " [168  74 136  22  40  72  92 122 104 154]\n",
      " [140 180 112 110  98 152 188  56  64  46]\n",
      " [ 10  88 184  30 106 126 174 150 122  50]\n",
      " [102 116  58  60 186 188 104 144 160  54]\n",
      " [  2  56 164  70 178  72  20 168 170 130]]\n"
     ]
    }
   ],
   "source": [
    "result = ray.get(result_obj_ref)\n",
    "print(f\"Result: add arr1 + arr2: \\n {result}\")"
   ]
  },
  {
   "cell_type": "markdown",
   "id": "cf4051a7",
   "metadata": {},
   "source": [
    "Add the array elements within an `np.array` and get the sum. \n",
    "**Note** that we are sending `ObjRefs` as arguments to the function. Ray will resolve or fetch the value of these arrays. "
   ]
  },
  {
   "cell_type": "code",
   "execution_count": null,
   "id": "1f27dc65",
   "metadata": {},
   "outputs": [],
   "source": [
    "sum_1 = ray.get(sum_array.remote(obj_ref_arr1))\n",
    "sum_2 = ray.get(sum_array.remote(obj_ref_arr2))"
   ]
  },
  {
   "cell_type": "code",
   "execution_count": null,
   "id": "b1d5e2da",
   "metadata": {},
   "outputs": [],
   "source": [
    "print(f\"Sum of arr1: {sum_1}\")\n",
    "print(f\"Sum of arr2: {sum_2}\")"
   ]
  },
  {
   "cell_type": "markdown",
   "id": "5e8ee843-0613-4680-82b5-7837d2b66714",
   "metadata": {},
   "source": [
    "## Remote Stateful Class Instances as Actors\n",
    "\n",
    "Actors extend the Ray API from functions (tasks) to classes. An actor is essentially a stateful worker (or a service). When a new actor is instantiated, a new worker is created, and methods of the actor are scheduled on that specific worker and can access and mutate the state of that worker. Like tasks, actors support CPU, GPU, and custom resource requirements."
   ]
  },
  {
   "cell_type": "markdown",
   "id": "19251e53-db30-431e-b26d-218021e3349c",
   "metadata": {},
   "source": [
    "## Remote class as a stateful actor pattern"
   ]
  },
  {
   "cell_type": "markdown",
   "id": "15d03fb0-da01-419f-88fb-861007c8b3fe",
   "metadata": {},
   "source": [
    "[*Remote Classes*](https://docs.ray.io/en/latest/walkthrough.html#remote-classes-actors)  (just as remote tasks) use a `@ray.remote` decorator on a Python class. \n",
    "\n",
    "Ray Actor pattern is powerful. They allow you to take a Python class and instantiate it as a stateful microservice that can be queried from other actors and tasks and even other Python applications. Actors can be passed as arguments to other tasks and actors. \n",
    "\n",
    "<img src=\"images/ray_worker_actor_1.png\" height=\"40%\" width=\"70%\">\n",
    "\n",
    "When you instantiate a remote Actor, a separate worker process is attached to a worker process and becomes an Actor process on that worker node—all for the purpose of running methods called on the actor. Other Ray tasks and actors can invoke its methods on that process, mutating its internal state if desried. Actors can also be terminated manually if needed. The examples code below show all these cases.\n",
    "\n",
    "<img src=\"images/ray_worker_actor_2.png\" height=\"40%\" width=\"70%\">"
   ]
  },
  {
   "cell_type": "markdown",
   "id": "3bd0f66c-d3ff-4ca8-a5da-1aff43b7f023",
   "metadata": {},
   "source": [
    "To start, we'll define a class and use the decorator: `@ray.remote`"
   ]
  },
  {
   "cell_type": "markdown",
   "id": "9c8f0520-af37-41b9-b2d2-737f3c3cad01",
   "metadata": {},
   "source": [
    "### Example: Method tracking \n",
    "**Problem**: We want to keep track of who invoked a particular method. This could be a use case for telemetry data we want to track: who's invoking what"
   ]
  },
  {
   "cell_type": "markdown",
   "id": "fa3fa6c0-fb94-41a0-8d97-32ac5fc38d43",
   "metadata": {},
   "source": [
    "Let's use this actor to track method invocation of an actor's methods. Each instance will track who invoked it and number of times."
   ]
  },
  {
   "cell_type": "code",
   "execution_count": 31,
   "id": "2c52e11e-3dcb-4022-8a94-68b0e640a06f",
   "metadata": {},
   "outputs": [],
   "source": [
    "CALLERS = [\"A\", \"B\", \"C\"]\n",
    "\n",
    "@ray.remote\n",
    "class MethodStateCounter:\n",
    "    def __init__(self):\n",
    "        self.invokers = {\"A\": 0, \"B\": 0, \"C\": 0}\n",
    "\n",
    "    def invoke(self, name):\n",
    "        # pretend to do some work here\n",
    "        time.sleep(0.5)\n",
    "        # update times invoked\n",
    "        self.invokers[name] += 1\n",
    "        # return the state of that invoker\n",
    "        return self.invokers[name]\n",
    "\n",
    "    def get_all_invoker_state(self):\n",
    "        # reeturn the state of all invokers\n",
    "        return self.invokers"
   ]
  },
  {
   "cell_type": "code",
   "execution_count": 32,
   "id": "b6484cce-2825-4025-8628-0a02a4ea9d71",
   "metadata": {},
   "outputs": [
    {
     "data": {
      "text/plain": [
       "Actor(MethodStateCounter, b39a1ef42ec776f8f739ec5801000000)"
      ]
     },
     "execution_count": 32,
     "metadata": {},
     "output_type": "execute_result"
    }
   ],
   "source": [
    "# Create an instance of our Actor\n",
    "\n",
    "worker_invoker = MethodStateCounter.remote()\n",
    "worker_invoker"
   ]
  },
  {
   "cell_type": "markdown",
   "id": "87ff77e9-bbde-4f3d-b0cc-673529acb463",
   "metadata": {},
   "source": [
    "Iterate and call the `invoke()` method by random callers and keep track of who called it."
   ]
  },
  {
   "cell_type": "code",
   "execution_count": 33,
   "id": "37659792-d1f7-4b18-b837-2472ea794a29",
   "metadata": {},
   "outputs": [
    {
     "name": "stdout",
     "output_type": "stream",
     "text": [
      "{'A': 2, 'B': 3, 'C': 5}\n"
     ]
    }
   ],
   "source": [
    "import random\n",
    "\n",
    "for _ in range(10):\n",
    "    name = random.choice(CALLERS)\n",
    "    worker_invoker.invoke.remote(name)\n",
    "    \n",
    "print(ray.get(worker_invoker.get_all_invoker_state.remote()))"
   ]
  },
  {
   "cell_type": "markdown",
   "id": "38e2758f-1717-427c-9e88-9d8554f2fb82",
   "metadata": {},
   "source": [
    "Invoke a random caller and fetch the value or invocations of a random caller"
   ]
  },
  {
   "cell_type": "code",
   "execution_count": 34,
   "id": "2b423d7f-c571-4603-b2c3-8a59d7ffd705",
   "metadata": {},
   "outputs": [
    {
     "name": "stdout",
     "output_type": "stream",
     "text": [
      "Named caller: B called 4 times\n",
      "Named caller: B called 5 times\n",
      "Named caller: A called 3 times\n",
      "Named caller: C called 6 times\n",
      "Named caller: A called 4 times\n"
     ]
    }
   ],
   "source": [
    "for _ in range(5):\n",
    "    random_name_invoker = random.choice(CALLERS)\n",
    "    times_invoked = ray.get(worker_invoker.invoke.remote(random_name_invoker))\n",
    "    print(f\"Named caller: {random_name_invoker} called {times_invoked} times\")"
   ]
  },
  {
   "cell_type": "markdown",
   "id": "15f6eb77-06c9-47b9-95ba-855a20bcecd4",
   "metadata": {},
   "source": [
    "Note that we did not have to reason about where and how the actors are scheduled.\n",
    "\n",
    "We did not worry about the socket connection or IP addresses where these actors reside. All that's abstracted away from us. \n",
    "\n",
    "All we did is write Python code, using Ray core APIs, convert our classes into distributed stateful services!"
   ]
  },
  {
   "cell_type": "code",
   "execution_count": null,
   "id": "03a57a64-89df-4cc4-9817-e8eac2896807",
   "metadata": {},
   "outputs": [],
   "source": []
  }
 ],
 "metadata": {
  "kernelspec": {
   "display_name": "Python 3 (ipykernel)",
   "language": "python",
   "name": "python3"
  },
  "language_info": {
   "codemirror_mode": {
    "name": "ipython",
    "version": 3
   },
   "file_extension": ".py",
   "mimetype": "text/x-python",
   "name": "python",
   "nbconvert_exporter": "python",
   "pygments_lexer": "ipython3",
   "version": "3.9.0"
  }
 },
 "nbformat": 4,
 "nbformat_minor": 5
}
