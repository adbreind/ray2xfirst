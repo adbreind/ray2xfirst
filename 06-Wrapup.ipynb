{
 "cells": [
  {
   "attachments": {},
   "cell_type": "markdown",
   "metadata": {},
   "source": [
    "# Wrapup\n",
    "\n",
    "* Ray Community\n",
    "  * Slack: https://forms.gle/9TSdDYUgxYs8SA9e8\n",
    "  * Discuss: https://discuss.ray.io/\n",
    "  * GitHub: https://github.com/ray-project/ray\n"
   ]
  },
  {
   "attachments": {},
   "cell_type": "markdown",
   "metadata": {},
   "source": [
    "* Q & A"
   ]
  },
  {
   "cell_type": "markdown",
   "metadata": {},
   "source": []
  }
 ],
 "metadata": {
  "language_info": {
   "name": "python"
  },
  "orig_nbformat": 4
 },
 "nbformat": 4,
 "nbformat_minor": 2
}
