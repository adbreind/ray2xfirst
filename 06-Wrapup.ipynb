{
 "cells": [
  {
   "cell_type": "markdown",
   "metadata": {},
   "source": [
    "# Wrapup\n",
    "\n",
    "## Key Takeways\n",
    "\n",
    "* High-level, high-produtivity API abstractions for training, tuning, serving, RL, and more\n",
    "* Low-level APIs for arbitrary custom distributed computation\n",
    "* Data ingest and last-mile data transformation with Ray Data\n",
    "    * Get your data from files, data structures/queries (Modin, Dask, Spark) or elsewhere\n",
    "* Distributed scheduler\n",
    "* Multi-tier storage\n",
    "* Fine-grained resource allocation for more efficient resource usage\n",
    "\n",
    "## Anyscale\n",
    "\n",
    "* Founded by Ray creators\n",
    "* Fully-managed platform for Ray \n",
    "* https://anyscale.com\n",
    "\n",
    "## Ray Community\n",
    "\n",
    "* Slack: https://forms.gle/9TSdDYUgxYs8SA9e8\n",
    "* Discuss: https://discuss.ray.io/\n",
    "* GitHub: https://github.com/ray-project/ray"
   ]
  },
  {
   "cell_type": "markdown",
   "metadata": {},
   "source": [
    "## Q & A"
   ]
  },
  {
   "cell_type": "markdown",
   "metadata": {},
   "source": []
  }
 ],
 "metadata": {
  "kernelspec": {
   "display_name": "Python 3 (ipykernel)",
   "language": "python",
   "name": "python3"
  },
  "language_info": {
   "codemirror_mode": {
    "name": "ipython",
    "version": 3
   },
   "file_extension": ".py",
   "mimetype": "text/x-python",
   "name": "python",
   "nbconvert_exporter": "python",
   "pygments_lexer": "ipython3",
   "version": "3.9.0"
  }
 },
 "nbformat": 4,
 "nbformat_minor": 4
}
